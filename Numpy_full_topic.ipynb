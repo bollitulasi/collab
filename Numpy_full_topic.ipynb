{
  "cells": [
    {
      "cell_type": "markdown",
      "metadata": {
        "id": "view-in-github",
        "colab_type": "text"
      },
      "source": [
        "<a href=\"https://colab.research.google.com/github/bollitulasi/collab/blob/main/Numpy_full_topic.ipynb\" target=\"_parent\"><img src=\"https://colab.research.google.com/assets/colab-badge.svg\" alt=\"Open In Colab\"/></a>"
      ]
    },
    {
      "cell_type": "markdown",
      "metadata": {
        "id": "jwdIb66r_iY5"
      },
      "source": [
        "** CONTENT**\n",
        "\n",
        "*introductio to numpy\n",
        "*installlation of numpy\n",
        "*importing numpy\n",
        "* creating array\n",
        "*initialization of array\n",
        "*array properties\n",
        "*array operations\n",
        "* array functions"
      ]
    },
    {
      "cell_type": "markdown",
      "metadata": {
        "id": "8PoHtF5QBHYX"
      },
      "source": [
        "              CREATING ARRAYS  \n",
        "            \n",
        "      *array()\n",
        "          .0 dimensinal aray\n",
        "          .1 dimensiona array\n",
        "          .2 dimensional arrray\n",
        "          .3 dimensional array\n",
        "       *as array()withnditer()\n",
        "       *frombuffer()\n",
        "       *fromiter()"
      ]
    },
    {
      "cell_type": "code",
      "execution_count": null,
      "metadata": {
        "id": "2wk-fqaDEkTg"
      },
      "outputs": [],
      "source": [
        "import numpy  as np"
      ]
    },
    {
      "cell_type": "code",
      "execution_count": null,
      "metadata": {
        "colab": {
          "base_uri": "https://localhost:8080/"
        },
        "id": "mrjDE6d5Fal1",
        "outputId": "dbef2411-512f-4d49-d7d3-3a95061b2d8d"
      },
      "outputs": [
        {
          "output_type": "stream",
          "name": "stdout",
          "text": [
            "10\n"
          ]
        }
      ],
      "source": [
        "a=np.array(10)\n",
        "print(a)\n",
        "#0 dimensional array"
      ]
    },
    {
      "cell_type": "code",
      "execution_count": null,
      "metadata": {
        "colab": {
          "base_uri": "https://localhost:8080/"
        },
        "id": "7vuqTN3JFanS",
        "outputId": "833c15f3-a294-42a9-f645-4e2b8de5c6e5"
      },
      "outputs": [
        {
          "output_type": "stream",
          "name": "stdout",
          "text": [
            "[10 20 30]\n"
          ]
        }
      ],
      "source": [
        "a=np.array([10, 20, 30])\n",
        "#1dimensional array\n",
        "print(a)"
      ]
    },
    {
      "cell_type": "code",
      "source": [
        "\n",
        "#2dimensional array\n",
        "a=np.array([[10, 20],[30,40]])\n",
        "print(a)"
      ],
      "metadata": {
        "colab": {
          "base_uri": "https://localhost:8080/"
        },
        "id": "LyaN2wZJHBdD",
        "outputId": "b0c2a3b8-59dc-4f2a-80d1-ec1ff7f49290"
      },
      "execution_count": null,
      "outputs": [
        {
          "output_type": "stream",
          "name": "stdout",
          "text": [
            "[[10 20]\n",
            " [30 40]]\n"
          ]
        }
      ]
    },
    {
      "cell_type": "code",
      "source": [
        "a=np.array([[[10, 20], [30, 40]],[[50,60],[70,80]]])\n",
        "print(a)\n",
        "#3dimensional array"
      ],
      "metadata": {
        "colab": {
          "base_uri": "https://localhost:8080/"
        },
        "id": "1Klb7ryKLXAa",
        "outputId": "02f0fb39-3da3-48d5-e0db-89902f79946c"
      },
      "execution_count": null,
      "outputs": [
        {
          "output_type": "stream",
          "name": "stdout",
          "text": [
            "[[[10 20]\n",
            "  [30 40]]\n",
            "\n",
            " [[50 60]\n",
            "  [70 80]]]\n"
          ]
        }
      ]
    },
    {
      "cell_type": "code",
      "source": [
        "a=np.array([[[10, 20], [30, 40]],[[50,60],[70,80]]])\n",
        "\n",
        "#3dimensional array\n",
        "a[0][1][0]"
      ],
      "metadata": {
        "colab": {
          "base_uri": "https://localhost:8080/"
        },
        "id": "-jiR0klhaP_2",
        "outputId": "fbcc3fa6-7c68-48f2-8c9a-8221c3fa6b5c"
      },
      "execution_count": null,
      "outputs": [
        {
          "output_type": "execute_result",
          "data": {
            "text/plain": [
              "30"
            ]
          },
          "metadata": {},
          "execution_count": 76
        }
      ]
    },
    {
      "cell_type": "code",
      "source": [
        "#asarray\n",
        "a=[10, 20,30,]\n",
        "a=np.asarray(a,dtype=float)\n",
        "print(a)"
      ],
      "metadata": {
        "colab": {
          "base_uri": "https://localhost:8080/"
        },
        "id": "Apux9vlEMbQC",
        "outputId": "7392e25e-d8c3-4d1e-cfe1-37a5a9faef33"
      },
      "execution_count": null,
      "outputs": [
        {
          "output_type": "stream",
          "name": "stdout",
          "text": [
            "[10. 20. 30.]\n"
          ]
        }
      ]
    },
    {
      "cell_type": "code",
      "source": [
        "#as array with 2dimensions arrays of rows&column\n",
        "a=([[10, 20], [30, 40]])\n",
        "b=np.asarray(a,dtype=float,order='C')\n",
        "#C   mean row major order\n",
        "print(b)\n",
        "for i in np.nditer(b):\n",
        "  print(i)"
      ],
      "metadata": {
        "colab": {
          "base_uri": "https://localhost:8080/"
        },
        "id": "w4jzt3W5NoF8",
        "outputId": "45f31a1a-927a-46e1-dc3d-0d9aeadff95a"
      },
      "execution_count": null,
      "outputs": [
        {
          "output_type": "stream",
          "name": "stdout",
          "text": [
            "[[10. 20.]\n",
            " [30. 40.]]\n",
            "10.0\n",
            "20.0\n",
            "30.0\n",
            "40.0\n"
          ]
        }
      ]
    },
    {
      "cell_type": "code",
      "source": [
        "#as array with 2dimensions arrays of rows&column\n",
        "a=([[10, 20], [30, 40]])\n",
        "b=np.asarray(a,dtype=float,order='F')\n",
        "#F mean column   major order\n",
        "print(b)\n",
        "for i in np.nditer(b):\n",
        "  print(i)"
      ],
      "metadata": {
        "colab": {
          "base_uri": "https://localhost:8080/"
        },
        "id": "sWWm7TH6Pi4_",
        "outputId": "50face76-9051-4373-d56f-f0fba96e9d78"
      },
      "execution_count": null,
      "outputs": [
        {
          "output_type": "stream",
          "name": "stdout",
          "text": [
            "[[10. 20.]\n",
            " [30. 40.]]\n",
            "10.0\n",
            "30.0\n",
            "20.0\n",
            "40.0\n"
          ]
        }
      ]
    },
    {
      "cell_type": "code",
      "source": [
        "#from  buffer\n",
        "a=b\"welcome to numpy\"#as default it stored as ini\n",
        "np.frombuffer(a)"
      ],
      "metadata": {
        "colab": {
          "base_uri": "https://localhost:8080/"
        },
        "id": "nTXsn4oYQaYM",
        "outputId": "2d7b47eb-3d6d-40c5-903b-674c29acb2d9"
      },
      "execution_count": null,
      "outputs": [
        {
          "output_type": "execute_result",
          "data": {
            "text/plain": [
              "array([1.27850763e-152, 9.10016855e+276])"
            ]
          },
          "metadata": {},
          "execution_count": 64
        }
      ]
    },
    {
      "cell_type": "code",
      "source": [
        "#from  buffer\n",
        "a=b\"welcome to numpy\"\n",
        "np.frombuffer(a,dtype=\"S1\")"
      ],
      "metadata": {
        "colab": {
          "base_uri": "https://localhost:8080/"
        },
        "id": "FXTjcujxV7-S",
        "outputId": "29a03151-150d-4150-ecd8-5dda1040f796"
      },
      "execution_count": null,
      "outputs": [
        {
          "output_type": "execute_result",
          "data": {
            "text/plain": [
              "array([b'w', b'e', b'l', b'c', b'o', b'm', b'e', b' ', b't', b'o', b' ',\n",
              "       b'n', b'u', b'm', b'p', b'y'], dtype='|S1')"
            ]
          },
          "metadata": {},
          "execution_count": 66
        }
      ]
    },
    {
      "cell_type": "code",
      "source": [
        "#from  buffer\n",
        "a=b\"welcome to numpy\"\n",
        "np.frombuffer(a,dtype=\"S1\",count=10)"
      ],
      "metadata": {
        "colab": {
          "base_uri": "https://localhost:8080/"
        },
        "id": "yRB7F88XWQtR",
        "outputId": "fe880a33-618e-436b-cd72-f0c3bbae999e"
      },
      "execution_count": null,
      "outputs": [
        {
          "output_type": "execute_result",
          "data": {
            "text/plain": [
              "array([b'w', b'e', b'l', b'c', b'o', b'm', b'e', b' ', b't', b'o'],\n",
              "      dtype='|S1')"
            ]
          },
          "metadata": {},
          "execution_count": 67
        }
      ]
    },
    {
      "cell_type": "code",
      "source": [
        "#from  buffer\n",
        "a=b\"welcome to numpy\"\n",
        "np.frombuffer(a,dtype=\"S1\",offset=9)"
      ],
      "metadata": {
        "colab": {
          "base_uri": "https://localhost:8080/"
        },
        "id": "4Za4hrm5WZb6",
        "outputId": "7bea2b60-fdf3-4cd8-a2f4-727370798a00"
      },
      "execution_count": null,
      "outputs": [
        {
          "output_type": "execute_result",
          "data": {
            "text/plain": [
              "array([b'o', b' ', b'n', b'u', b'm', b'p', b'y'], dtype='|S1')"
            ]
          },
          "metadata": {},
          "execution_count": 68
        }
      ]
    },
    {
      "cell_type": "code",
      "source": [
        "#from  buffer\n",
        "a=b\"welcome to numpy\"\n",
        "np.frombuffer(a,dtype=\"S1\",count=2,offset=9)"
      ],
      "metadata": {
        "id": "X3LYfPjbWmYP",
        "colab": {
          "base_uri": "https://localhost:8080/"
        },
        "outputId": "ef00fcde-344e-4668-bdf3-8646d9958eb4"
      },
      "execution_count": null,
      "outputs": [
        {
          "output_type": "execute_result",
          "data": {
            "text/plain": [
              "array([b'o', b' '], dtype='|S1')"
            ]
          },
          "metadata": {},
          "execution_count": 70
        }
      ]
    },
    {
      "cell_type": "code",
      "source": [
        "#fromiter\n",
        "a=[10,40,20,30]\n",
        "np.fromiter(a, dtype=int)"
      ],
      "metadata": {
        "colab": {
          "base_uri": "https://localhost:8080/"
        },
        "id": "unYcXg2HZZhc",
        "outputId": "d566bb28-f28a-4f5f-a00a-8d6acb1dcb53"
      },
      "execution_count": null,
      "outputs": [
        {
          "output_type": "execute_result",
          "data": {
            "text/plain": [
              "array([10, 40, 20, 30])"
            ]
          },
          "metadata": {},
          "execution_count": 72
        }
      ]
    },
    {
      "cell_type": "markdown",
      "source": [
        "    INITIALIZATION OF ARRAYS\n",
        "\n",
        "     1.zeros()\n",
        "     2.full()\n",
        "     3.random.rand()\n",
        "     4 ones()\n",
        "     5 eye()\n",
        "     6.numerical ranges()\n",
        "         >arange()\n",
        "         >linspace()\n",
        "         > logspace()"
      ],
      "metadata": {
        "id": "1hiQu6UFalai"
      }
    },
    {
      "cell_type": "code",
      "source": [
        "a=np.zeros(3)#zeros\n",
        "print (a)"
      ],
      "metadata": {
        "colab": {
          "base_uri": "https://localhost:8080/"
        },
        "id": "tFDO5VLmbhDe",
        "outputId": "4ce23774-9c3c-4c4d-f94e-0d5730a39578"
      },
      "execution_count": null,
      "outputs": [
        {
          "output_type": "stream",
          "name": "stdout",
          "text": [
            "[0. 0. 0.]\n"
          ]
        }
      ]
    },
    {
      "cell_type": "code",
      "source": [
        "a=np.zeros([2, 3])\n",
        "print (a)"
      ],
      "metadata": {
        "colab": {
          "base_uri": "https://localhost:8080/"
        },
        "id": "E6lDym9bckol",
        "outputId": "a454c3d2-7d5e-4168-ff21-5e6e2c9aa395"
      },
      "execution_count": null,
      "outputs": [
        {
          "output_type": "stream",
          "name": "stdout",
          "text": [
            "[[0. 0. 0.]\n",
            " [0. 0. 0.]]\n"
          ]
        }
      ]
    },
    {
      "cell_type": "code",
      "source": [
        "a=np.zeros([2, 3,3])\n",
        "print (a)"
      ],
      "metadata": {
        "colab": {
          "base_uri": "https://localhost:8080/"
        },
        "id": "QlI4juAZcr4J",
        "outputId": "51035003-e313-484f-9469-1a30f847ea05"
      },
      "execution_count": null,
      "outputs": [
        {
          "output_type": "stream",
          "name": "stdout",
          "text": [
            "[[[0. 0. 0.]\n",
            "  [0. 0. 0.]\n",
            "  [0. 0. 0.]]\n",
            "\n",
            " [[0. 0. 0.]\n",
            "  [0. 0. 0.]\n",
            "  [0. 0. 0.]]]\n"
          ]
        }
      ]
    },
    {
      "cell_type": "code",
      "source": [
        "#np.full\n",
        "np. full([2, 3],1)"
      ],
      "metadata": {
        "colab": {
          "base_uri": "https://localhost:8080/"
        },
        "id": "gfK5wgxxc9GG",
        "outputId": "67bd5b34-bd1f-4e54-c260-009b7b2cf15b"
      },
      "execution_count": null,
      "outputs": [
        {
          "output_type": "execute_result",
          "data": {
            "text/plain": [
              "array([[1, 1, 1],\n",
              "       [1, 1, 1]])"
            ]
          },
          "metadata": {},
          "execution_count": 90
        }
      ]
    },
    {
      "cell_type": "code",
      "source": [
        "#np.full\n",
        "np. full([2, 3,4],10)"
      ],
      "metadata": {
        "colab": {
          "base_uri": "https://localhost:8080/"
        },
        "id": "7ATuVB3idUrf",
        "outputId": "cf32129c-e881-4726-df0f-a4363264ac59"
      },
      "execution_count": null,
      "outputs": [
        {
          "output_type": "execute_result",
          "data": {
            "text/plain": [
              "array([[[10, 10, 10, 10],\n",
              "        [10, 10, 10, 10],\n",
              "        [10, 10, 10, 10]],\n",
              "\n",
              "       [[10, 10, 10, 10],\n",
              "        [10, 10, 10, 10],\n",
              "        [10, 10, 10, 10]]])"
            ]
          },
          "metadata": {},
          "execution_count": 91
        }
      ]
    },
    {
      "cell_type": "code",
      "source": [
        "#np.random.rand()\n",
        "np.random.rand(2,3)"
      ],
      "metadata": {
        "colab": {
          "base_uri": "https://localhost:8080/"
        },
        "id": "Z6VZhr5GddnX",
        "outputId": "99a26a28-8292-4dcb-e013-3d6629b9fa53"
      },
      "execution_count": null,
      "outputs": [
        {
          "output_type": "execute_result",
          "data": {
            "text/plain": [
              "array([[0.09620266, 0.31229269, 0.25892107],\n",
              "       [0.20878386, 0.25749633, 0.78123368]])"
            ]
          },
          "metadata": {},
          "execution_count": 95
        }
      ]
    },
    {
      "cell_type": "code",
      "source": [
        "#np.random.rand()\n",
        "np.random.rand(2,3,3)"
      ],
      "metadata": {
        "colab": {
          "base_uri": "https://localhost:8080/"
        },
        "id": "635UvgCZd1E3",
        "outputId": "e44d5f9c-68aa-4c61-c981-1a5c2ddad213"
      },
      "execution_count": null,
      "outputs": [
        {
          "output_type": "execute_result",
          "data": {
            "text/plain": [
              "array([[[0.52007972, 0.13631124, 0.78416325],\n",
              "        [0.1913876 , 0.08197236, 0.68040372],\n",
              "        [0.58089137, 0.55270456, 0.44889384]],\n",
              "\n",
              "       [[0.54436498, 0.74466616, 0.10875379],\n",
              "        [0.69661275, 0.08885462, 0.24288136],\n",
              "        [0.3162143 , 0.1225352 , 0.06783514]]])"
            ]
          },
          "metadata": {},
          "execution_count": 96
        }
      ]
    },
    {
      "cell_type": "code",
      "source": [
        "#np.ones()\n",
        "np.ones([2, 3])"
      ],
      "metadata": {
        "colab": {
          "base_uri": "https://localhost:8080/"
        },
        "id": "FBBwz-Nfd-5v",
        "outputId": "1c9b67c2-3d0c-4794-d879-b12d3f5254be"
      },
      "execution_count": null,
      "outputs": [
        {
          "output_type": "execute_result",
          "data": {
            "text/plain": [
              "array([[1., 1., 1.],\n",
              "       [1., 1., 1.]])"
            ]
          },
          "metadata": {},
          "execution_count": 97
        }
      ]
    },
    {
      "cell_type": "code",
      "source": [
        "#np.eye()\n",
        "np. eye(2)"
      ],
      "metadata": {
        "colab": {
          "base_uri": "https://localhost:8080/"
        },
        "id": "Rsd2UKEXeOrY",
        "outputId": "e72bde3b-eabf-40e1-f595-95579314d36a"
      },
      "execution_count": null,
      "outputs": [
        {
          "output_type": "execute_result",
          "data": {
            "text/plain": [
              "array([[1., 0.],\n",
              "       [0., 1.]])"
            ]
          },
          "metadata": {},
          "execution_count": 98
        }
      ]
    },
    {
      "cell_type": "code",
      "source": [
        "#np.eye()\n",
        "np. eye(5)"
      ],
      "metadata": {
        "colab": {
          "base_uri": "https://localhost:8080/"
        },
        "id": "mk7CcKq-eY_R",
        "outputId": "6dd83b0b-b84d-43b0-c610-e968b1a2601d"
      },
      "execution_count": null,
      "outputs": [
        {
          "output_type": "execute_result",
          "data": {
            "text/plain": [
              "array([[1., 0., 0., 0., 0.],\n",
              "       [0., 1., 0., 0., 0.],\n",
              "       [0., 0., 1., 0., 0.],\n",
              "       [0., 0., 0., 1., 0.],\n",
              "       [0., 0., 0., 0., 1.]])"
            ]
          },
          "metadata": {},
          "execution_count": 102
        }
      ]
    },
    {
      "cell_type": "code",
      "source": [
        "#np.arange\n",
        "a=np.arange(10, 20,1)\n",
        "print (a)"
      ],
      "metadata": {
        "colab": {
          "base_uri": "https://localhost:8080/"
        },
        "id": "dUbBRGUie8vu",
        "outputId": "0562951a-7cfd-4aa5-b5f9-fb4a8e7b18df"
      },
      "execution_count": null,
      "outputs": [
        {
          "output_type": "stream",
          "name": "stdout",
          "text": [
            "[10 11 12 13 14 15 16 17 18 19]\n"
          ]
        }
      ]
    },
    {
      "cell_type": "code",
      "source": [
        "#np.arange\n",
        "a=np.arange(0, 100,10,dtype=float)\n",
        "print (a)"
      ],
      "metadata": {
        "colab": {
          "base_uri": "https://localhost:8080/"
        },
        "id": "CwKmscwvgIm7",
        "outputId": "bf39b3ad-42d8-41a9-e7ea-cf893c400fa1"
      },
      "execution_count": null,
      "outputs": [
        {
          "output_type": "stream",
          "name": "stdout",
          "text": [
            "[ 0. 10. 20. 30. 40. 50. 60. 70. 80. 90.]\n"
          ]
        }
      ]
    },
    {
      "cell_type": "code",
      "source": [
        "#reshape is an function\n",
        "\n",
        "a. reshape(2, 3)"
      ],
      "metadata": {
        "colab": {
          "base_uri": "https://localhost:8080/"
        },
        "id": "gNxsgUpygrWf",
        "outputId": "6d99d6a9-9158-455b-f312-390761e496bf"
      },
      "execution_count": null,
      "outputs": [
        {
          "output_type": "execute_result",
          "data": {
            "text/plain": [
              "array([[10, 20, 30],\n",
              "       [40, 50, 60]])"
            ]
          },
          "metadata": {},
          "execution_count": 116
        }
      ]
    },
    {
      "cell_type": "code",
      "source": [
        "a.reshape (3, 2)#3, 2meams 3rows 2columns3*2=6"
      ],
      "metadata": {
        "colab": {
          "base_uri": "https://localhost:8080/"
        },
        "id": "90ed-GpShYEP",
        "outputId": "39cb3cf8-b648-48f3-edc5-c3d01b77d0da"
      },
      "execution_count": null,
      "outputs": [
        {
          "output_type": "execute_result",
          "data": {
            "text/plain": [
              "array([[10, 20],\n",
              "       [30, 40],\n",
              "       [50, 60]])"
            ]
          },
          "metadata": {},
          "execution_count": 119
        }
      ]
    },
    {
      "cell_type": "code",
      "source": [
        "a=np.arange(10,130,10)\n",
        "a.reshape(2,3,2)\n"
      ],
      "metadata": {
        "colab": {
          "base_uri": "https://localhost:8080/"
        },
        "id": "zKRWQSTCv_C_",
        "outputId": "90f17715-9760-461e-c4d5-1f7aa9ba04e2"
      },
      "execution_count": null,
      "outputs": [
        {
          "output_type": "execute_result",
          "data": {
            "text/plain": [
              "array([[[ 10,  20],\n",
              "        [ 30,  40],\n",
              "        [ 50,  60]],\n",
              "\n",
              "       [[ 70,  80],\n",
              "        [ 90, 100],\n",
              "        [110, 120]]])"
            ]
          },
          "metadata": {},
          "execution_count": 53
        }
      ]
    },
    {
      "cell_type": "code",
      "source": [
        "#linspace\n",
        "np.linspace(10, 100,10) #range with last elements"
      ],
      "metadata": {
        "colab": {
          "base_uri": "https://localhost:8080/"
        },
        "id": "Y9fmcyd2h7GV",
        "outputId": "c8b166d6-8107-47d3-e3c4-6faf66e6fd94"
      },
      "execution_count": null,
      "outputs": [
        {
          "output_type": "execute_result",
          "data": {
            "text/plain": [
              "array([ 10.,  20.,  30.,  40.,  50.,  60.,  70.,  80.,  90., 100.])"
            ]
          },
          "metadata": {},
          "execution_count": 120
        }
      ]
    },
    {
      "cell_type": "code",
      "source": [
        "#linspace\n",
        "np.linspace(10, 100,10,endpoint=False,retstep=True)"
      ],
      "metadata": {
        "colab": {
          "base_uri": "https://localhost:8080/"
        },
        "id": "Ft_VFxonjE0f",
        "outputId": "36898193-0ff8-439f-8ed4-99860a2276e2"
      },
      "execution_count": null,
      "outputs": [
        {
          "output_type": "execute_result",
          "data": {
            "text/plain": [
              "(array([10., 19., 28., 37., 46., 55., 64., 73., 82., 91.]), 9.0)"
            ]
          },
          "metadata": {},
          "execution_count": 123
        }
      ]
    },
    {
      "cell_type": "code",
      "source": [
        "#linspace\n",
        "np.linspace(10, 100,10,endpoint=False,retstep=True,dtype=int)"
      ],
      "metadata": {
        "colab": {
          "base_uri": "https://localhost:8080/"
        },
        "id": "7p6zDnV-jE2e",
        "outputId": "bf9edcf0-5a61-442a-d3b0-55dd98468159"
      },
      "execution_count": null,
      "outputs": [
        {
          "output_type": "execute_result",
          "data": {
            "text/plain": [
              "(array([10, 19, 28, 37, 46, 55, 64, 73, 82, 91]), 9.0)"
            ]
          },
          "metadata": {},
          "execution_count": 124
        }
      ]
    },
    {
      "cell_type": "code",
      "source": [
        "#logspace\n",
        "np.logspace(1,10,10,base=2)"
      ],
      "metadata": {
        "id": "qUfTTTeNjqaO",
        "colab": {
          "base_uri": "https://localhost:8080/"
        },
        "outputId": "d75eb471-2969-4a19-8f4d-494b4f85dc15"
      },
      "execution_count": null,
      "outputs": [
        {
          "output_type": "execute_result",
          "data": {
            "text/plain": [
              "array([   2.,    4.,    8.,   16.,   32.,   64.,  128.,  256.,  512.,\n",
              "       1024.])"
            ]
          },
          "metadata": {},
          "execution_count": 3
        }
      ]
    },
    {
      "cell_type": "code",
      "source": [
        "#logspace\n",
        "np.logspace(1,10,10,base=2)"
      ],
      "metadata": {
        "colab": {
          "base_uri": "https://localhost:8080/"
        },
        "outputId": "d75eb471-2969-4a19-8f4d-494b4f85dc15",
        "id": "w2pXmTwye_Bt"
      },
      "execution_count": null,
      "outputs": [
        {
          "output_type": "execute_result",
          "data": {
            "text/plain": [
              "array([   2.,    4.,    8.,   16.,   32.,   64.,  128.,  256.,  512.,\n",
              "       1024.])"
            ]
          },
          "metadata": {},
          "execution_count": 3
        }
      ]
    },
    {
      "cell_type": "code",
      "source": [
        "#logspace\n",
        "np.logspace(1,10,10)#by default base is 10"
      ],
      "metadata": {
        "colab": {
          "base_uri": "https://localhost:8080/"
        },
        "outputId": "38128a03-62f2-4c9c-91f5-a3e587f7a488",
        "id": "PJryemt_fCDX"
      },
      "execution_count": null,
      "outputs": [
        {
          "output_type": "execute_result",
          "data": {
            "text/plain": [
              "array([1.e+01, 1.e+02, 1.e+03, 1.e+04, 1.e+05, 1.e+06, 1.e+07, 1.e+08,\n",
              "       1.e+09, 1.e+10])"
            ]
          },
          "metadata": {},
          "execution_count": 4
        }
      ]
    },
    {
      "cell_type": "code",
      "source": [
        "#logspace\n",
        "np.logspace(1,10,10,base=2,dtype=int)#last option as data type is taken"
      ],
      "metadata": {
        "colab": {
          "base_uri": "https://localhost:8080/"
        },
        "outputId": "a7a180df-a003-488f-d944-29939751ba52",
        "id": "MBZqQfnEfSDK"
      },
      "execution_count": null,
      "outputs": [
        {
          "output_type": "execute_result",
          "data": {
            "text/plain": [
              "array([   2,    4,    8,   16,   32,   64,  128,  256,  512, 1024])"
            ]
          },
          "metadata": {},
          "execution_count": 5
        }
      ]
    },
    {
      "cell_type": "markdown",
      "source": [
        "    ARRAY PROPERTIES\n",
        "\n",
        "  >SIZE- np.size(array)\n",
        "  >SHAPE-np.shape(array)\n",
        "  >DTYPE-np.dtype(array)"
      ],
      "metadata": {
        "id": "AbDwKMpAfj2d"
      }
    },
    {
      "cell_type": "code",
      "source": [
        "a=np.arange(10,100,10)#in one array we can know about the shape &size&dtype is array properties\n",
        "a"
      ],
      "metadata": {
        "colab": {
          "base_uri": "https://localhost:8080/"
        },
        "id": "iHcaLOAUgbod",
        "outputId": "67396049-0a0f-42cc-c73d-0dd4d56f1e32"
      },
      "execution_count": null,
      "outputs": [
        {
          "output_type": "execute_result",
          "data": {
            "text/plain": [
              "array([10, 20, 30, 40, 50, 60, 70, 80, 90])"
            ]
          },
          "metadata": {},
          "execution_count": 16
        }
      ]
    },
    {
      "cell_type": "code",
      "source": [
        "a=a.reshape(3,3)\n",
        "a"
      ],
      "metadata": {
        "colab": {
          "base_uri": "https://localhost:8080/"
        },
        "id": "AkSHuvRIg91h",
        "outputId": "d3117b96-7360-44a5-80ba-fd6056a66353"
      },
      "execution_count": null,
      "outputs": [
        {
          "output_type": "execute_result",
          "data": {
            "text/plain": [
              "array([[10, 20, 30],\n",
              "       [40, 50, 60],\n",
              "       [70, 80, 90]])"
            ]
          },
          "metadata": {},
          "execution_count": 11
        }
      ]
    },
    {
      "cell_type": "code",
      "source": [
        "np.size(a)"
      ],
      "metadata": {
        "colab": {
          "base_uri": "https://localhost:8080/"
        },
        "id": "caQ7LQ__hRoN",
        "outputId": "2035fe88-3701-4ffd-b1c9-f4a4e75713c0"
      },
      "execution_count": null,
      "outputs": [
        {
          "output_type": "execute_result",
          "data": {
            "text/plain": [
              "9"
            ]
          },
          "metadata": {},
          "execution_count": 12
        }
      ]
    },
    {
      "cell_type": "code",
      "source": [
        "np.shape(a)"
      ],
      "metadata": {
        "colab": {
          "base_uri": "https://localhost:8080/"
        },
        "id": "_QOASvbHhbK8",
        "outputId": "45903dd9-9fc0-40e5-a6b9-a440f07126ef"
      },
      "execution_count": null,
      "outputs": [
        {
          "output_type": "execute_result",
          "data": {
            "text/plain": [
              "(3, 3)"
            ]
          },
          "metadata": {},
          "execution_count": 13
        }
      ]
    },
    {
      "cell_type": "code",
      "source": [
        "a.dtype"
      ],
      "metadata": {
        "colab": {
          "base_uri": "https://localhost:8080/"
        },
        "id": "71pkIZKxhfSF",
        "outputId": "43fbdd40-584a-49d9-bd8d-7754ed21c6ec"
      },
      "execution_count": null,
      "outputs": [
        {
          "output_type": "execute_result",
          "data": {
            "text/plain": [
              "dtype('int64')"
            ]
          },
          "metadata": {},
          "execution_count": 15
        }
      ]
    },
    {
      "cell_type": "markdown",
      "source": [
        "               ARRAY OPERATIONS\n",
        "\n",
        ">accessing&slicing operations\n",
        ">copy()\n",
        ">view\n",
        ">sort()\n",
        ">reshape()\n",
        ">append()\n",
        ">insert()\n",
        ">delete()\n",
        ">concatenate()\n",
        ">stack()\n",
        ">vstack()\n",
        ">hstack()\n",
        ">dstack()\n",
        ">split()\n",
        ">where()\n",
        ">searchsorted()\n"
      ],
      "metadata": {
        "id": "rRnFw1RZiqtL"
      }
    },
    {
      "cell_type": "code",
      "source": [
        "a=np.array([[10,20,30],[40,50,60]])#ACCESING&SLICING OPERATIONS\n",
        "a"
      ],
      "metadata": {
        "colab": {
          "base_uri": "https://localhost:8080/"
        },
        "id": "w5qOqrj3ksA5",
        "outputId": "b6bd870c-4e00-477c-9529-75f997ff0a1b"
      },
      "execution_count": null,
      "outputs": [
        {
          "output_type": "execute_result",
          "data": {
            "text/plain": [
              "array([[10, 20, 30],\n",
              "       [40, 50, 60]])"
            ]
          },
          "metadata": {},
          "execution_count": 27
        }
      ]
    },
    {
      "cell_type": "code",
      "source": [
        "a[0]\n",
        "a[0][1]"
      ],
      "metadata": {
        "colab": {
          "base_uri": "https://localhost:8080/"
        },
        "id": "GFdTVHuhlLM4",
        "outputId": "d42a05f7-d136-4e44-c0a3-ecc8cbe3e900"
      },
      "execution_count": null,
      "outputs": [
        {
          "output_type": "execute_result",
          "data": {
            "text/plain": [
              "20"
            ]
          },
          "metadata": {},
          "execution_count": 21
        }
      ]
    },
    {
      "cell_type": "code",
      "source": [
        "s=np.arange(10,100,10)\n",
        "s\n",
        "s[2:5]"
      ],
      "metadata": {
        "colab": {
          "base_uri": "https://localhost:8080/"
        },
        "id": "JjyeO9WZlYSy",
        "outputId": "720e1abd-463b-4f66-e40a-de1a690c2301"
      },
      "execution_count": null,
      "outputs": [
        {
          "output_type": "execute_result",
          "data": {
            "text/plain": [
              "array([30, 40, 50])"
            ]
          },
          "metadata": {},
          "execution_count": 26
        }
      ]
    },
    {
      "cell_type": "code",
      "source": [
        "#copy\n",
        "\n",
        "b=s.reshape(3,3)\n",
        "a=np.copy(b)\n",
        "a"
      ],
      "metadata": {
        "colab": {
          "base_uri": "https://localhost:8080/"
        },
        "id": "lxLSTftcl_KQ",
        "outputId": "2ee73467-f454-4077-d473-577b09329dd2"
      },
      "execution_count": null,
      "outputs": [
        {
          "output_type": "execute_result",
          "data": {
            "text/plain": [
              "array([[10, 20, 30],\n",
              "       [40, 50, 60],\n",
              "       [70, 80, 90]])"
            ]
          },
          "metadata": {},
          "execution_count": 33
        }
      ]
    },
    {
      "cell_type": "code",
      "source": [
        "#VIEW\n",
        "c=a.view()\n",
        "print(c)"
      ],
      "metadata": {
        "colab": {
          "base_uri": "https://localhost:8080/"
        },
        "id": "QFgEqs7anYEb",
        "outputId": "5f4e9df8-6a48-482d-abf9-81576fdc4aa8"
      },
      "execution_count": null,
      "outputs": [
        {
          "output_type": "stream",
          "name": "stdout",
          "text": [
            "[[10 20 30]\n",
            " [40 50 60]\n",
            " [70 80 90]]\n"
          ]
        }
      ]
    },
    {
      "cell_type": "code",
      "source": [
        "#sort\n",
        "a=np.array([30,40,50,10,20])\n",
        "np.sort(a)#ascending order"
      ],
      "metadata": {
        "colab": {
          "base_uri": "https://localhost:8080/"
        },
        "id": "IgEM2Nx9nq9Y",
        "outputId": "b5e38725-4493-4cb0-e5fe-73a454d521ec"
      },
      "execution_count": null,
      "outputs": [
        {
          "output_type": "execute_result",
          "data": {
            "text/plain": [
              "array([10, 20, 30, 40, 50])"
            ]
          },
          "metadata": {},
          "execution_count": 37
        }
      ]
    },
    {
      "cell_type": "code",
      "source": [
        "a=([[40,30,20],[10,50,60]])\n",
        "np.sort(a,)#by default axis=1"
      ],
      "metadata": {
        "colab": {
          "base_uri": "https://localhost:8080/"
        },
        "id": "eTncO0LZo86F",
        "outputId": "8414eff6-07cf-4184-8a5c-cee44ea43afa"
      },
      "execution_count": null,
      "outputs": [
        {
          "output_type": "execute_result",
          "data": {
            "text/plain": [
              "array([[20, 30, 40],\n",
              "       [10, 50, 60]])"
            ]
          },
          "metadata": {},
          "execution_count": 43
        }
      ]
    },
    {
      "cell_type": "code",
      "source": [
        "a=([[40,30,20],[10,50,60]])\n",
        "np.sort(a,axis=0)#when we given axis=0 row wise sorting will be done"
      ],
      "metadata": {
        "colab": {
          "base_uri": "https://localhost:8080/"
        },
        "outputId": "3a9a8b6f-09c8-4d35-ea8e-aeb43467629d",
        "id": "NeYukQoopWZ7"
      },
      "execution_count": null,
      "outputs": [
        {
          "output_type": "execute_result",
          "data": {
            "text/plain": [
              "array([[10, 30, 20],\n",
              "       [40, 50, 60]])"
            ]
          },
          "metadata": {},
          "execution_count": 39
        }
      ]
    },
    {
      "cell_type": "code",
      "source": [
        "np.sort(a)"
      ],
      "metadata": {
        "colab": {
          "base_uri": "https://localhost:8080/"
        },
        "id": "u1GIYbNBnrO1",
        "outputId": "cfa53303-0f82-4701-9657-eaa7d4fa01e7"
      },
      "execution_count": null,
      "outputs": [
        {
          "output_type": "execute_result",
          "data": {
            "text/plain": [
              "array([[20, 30, 40],\n",
              "       [10, 50, 60]])"
            ]
          },
          "metadata": {},
          "execution_count": 44
        }
      ]
    },
    {
      "cell_type": "code",
      "source": [
        "#it is an another type of sorting where we use dtype at the time of creating array\n",
        "d=np.dtype([('name','S1'),('perc',float)])\n",
        "marks=np.array([(\"ramu\",95.0),(\"hari\",75.6),(\"anu\",98.3)],dtype=d)\n",
        "marks"
      ],
      "metadata": {
        "colab": {
          "base_uri": "https://localhost:8080/"
        },
        "id": "aHlQDr6gssH6",
        "outputId": "29a60e40-5381-433f-cb53-9175855b5020"
      },
      "execution_count": null,
      "outputs": [
        {
          "output_type": "execute_result",
          "data": {
            "text/plain": [
              "array([(b'r', 95. ), (b'h', 75.6), (b'a', 98.3)],\n",
              "      dtype=[('name', 'S1'), ('perc', '<f8')])"
            ]
          },
          "metadata": {},
          "execution_count": 48
        }
      ]
    },
    {
      "cell_type": "code",
      "source": [
        "np.sort(marks,order=\"name\")"
      ],
      "metadata": {
        "colab": {
          "base_uri": "https://localhost:8080/"
        },
        "id": "1BAze8-duoW1",
        "outputId": "22c2a324-3e4d-4328-d1e3-e7416e653dda"
      },
      "execution_count": null,
      "outputs": [
        {
          "output_type": "execute_result",
          "data": {
            "text/plain": [
              "array([(b'a', 98.3), (b'h', 75.6), (b'r', 95. )],\n",
              "      dtype=[('name', 'S1'), ('perc', '<f8')])"
            ]
          },
          "metadata": {},
          "execution_count": 49
        }
      ]
    },
    {
      "cell_type": "code",
      "source": [
        "np.sort(marks,order=\"perc\")"
      ],
      "metadata": {
        "colab": {
          "base_uri": "https://localhost:8080/"
        },
        "outputId": "18453c00-23e5-4250-af4c-e70ee4bdd0ea",
        "id": "1nxoSlHju9Qy"
      },
      "execution_count": null,
      "outputs": [
        {
          "output_type": "execute_result",
          "data": {
            "text/plain": [
              "array([(b'h', 75.6), (b'r', 95. ), (b'a', 98.3)],\n",
              "      dtype=[('name', 'S1'), ('perc', '<f8')])"
            ]
          },
          "metadata": {},
          "execution_count": 50
        }
      ]
    },
    {
      "cell_type": "code",
      "source": [
        "a=np.arange(10,130,10)\n",
        "a.reshape(2,3,2)#reshape is same as above\n"
      ],
      "metadata": {
        "colab": {
          "base_uri": "https://localhost:8080/"
        },
        "outputId": "90f17715-9760-461e-c4d5-1f7aa9ba04e2",
        "id": "U_urVkWTwneG"
      },
      "execution_count": null,
      "outputs": [
        {
          "output_type": "execute_result",
          "data": {
            "text/plain": [
              "array([[[ 10,  20],\n",
              "        [ 30,  40],\n",
              "        [ 50,  60]],\n",
              "\n",
              "       [[ 70,  80],\n",
              "        [ 90, 100],\n",
              "        [110, 120]]])"
            ]
          },
          "metadata": {},
          "execution_count": 53
        }
      ]
    },
    {
      "cell_type": "code",
      "source": [
        "#append\n",
        "a=np.array([10,20,30])#in single dimensinal array\n",
        "b=np.array([40,50,60])\n",
        "np.append(a,b)"
      ],
      "metadata": {
        "colab": {
          "base_uri": "https://localhost:8080/"
        },
        "id": "RCFKIoTBhJgP",
        "outputId": "5352f6f0-78f9-41ee-ed82-74ee9d85c737"
      },
      "execution_count": null,
      "outputs": [
        {
          "output_type": "execute_result",
          "data": {
            "text/plain": [
              "array([10, 20, 30, 40, 50, 60])"
            ]
          },
          "metadata": {},
          "execution_count": 6
        }
      ]
    },
    {
      "cell_type": "code",
      "source": [
        "#multi dimensional array converts to single dimensional array\n",
        "a=np.array([[10,20],[30,40]])\n",
        "b=np.array([[50,60],[70,80]])\n",
        "np.append(a,b).reshape(4,2)\n"
      ],
      "metadata": {
        "colab": {
          "base_uri": "https://localhost:8080/"
        },
        "id": "QnqkNi7Rhy08",
        "outputId": "f7835b3d-6254-47d7-aadf-dd036ca69bf1"
      },
      "execution_count": null,
      "outputs": [
        {
          "output_type": "execute_result",
          "data": {
            "text/plain": [
              "array([[10, 20],\n",
              "       [30, 40],\n",
              "       [50, 60],\n",
              "       [70, 80]])"
            ]
          },
          "metadata": {},
          "execution_count": 22
        }
      ]
    },
    {
      "cell_type": "code",
      "source": [
        "#insert\n",
        "a\n"
      ],
      "metadata": {
        "colab": {
          "base_uri": "https://localhost:8080/"
        },
        "id": "thTvflyRjOde",
        "outputId": "e56305bf-8ef7-4f91-f703-bf5701f118f3"
      },
      "execution_count": null,
      "outputs": [
        {
          "output_type": "execute_result",
          "data": {
            "text/plain": [
              "array([[10, 20],\n",
              "       [30, 40]])"
            ]
          },
          "metadata": {},
          "execution_count": 19
        }
      ]
    },
    {
      "cell_type": "code",
      "source": [
        "np.insert(a,3,35)"
      ],
      "metadata": {
        "colab": {
          "base_uri": "https://localhost:8080/"
        },
        "id": "ScwucvkNjtDd",
        "outputId": "cc5020f3-8850-437c-f527-3d6aca052e0a"
      },
      "execution_count": null,
      "outputs": [
        {
          "output_type": "execute_result",
          "data": {
            "text/plain": [
              "array([10, 20, 30, 35, 40])"
            ]
          },
          "metadata": {},
          "execution_count": 23
        }
      ]
    },
    {
      "cell_type": "code",
      "source": [
        "np.insert(a,3,[35,45]).reshape(2,3)"
      ],
      "metadata": {
        "colab": {
          "base_uri": "https://localhost:8080/"
        },
        "id": "5Ig3ke0Ek_j6",
        "outputId": "282f85a0-ad54-4190-de81-9ef9d265e535"
      },
      "execution_count": null,
      "outputs": [
        {
          "output_type": "execute_result",
          "data": {
            "text/plain": [
              "array([[10, 20, 30],\n",
              "       [35, 45, 40]])"
            ]
          },
          "metadata": {},
          "execution_count": 25
        }
      ]
    },
    {
      "cell_type": "code",
      "source": [
        "#delete\n",
        "a\n",
        "np.delete(a,2)"
      ],
      "metadata": {
        "colab": {
          "base_uri": "https://localhost:8080/"
        },
        "id": "mEauvaOWlRGm",
        "outputId": "b04f3609-1095-4cbd-91e4-f9fc8e226352"
      },
      "execution_count": null,
      "outputs": [
        {
          "output_type": "execute_result",
          "data": {
            "text/plain": [
              "array([10, 20, 40])"
            ]
          },
          "metadata": {},
          "execution_count": 27
        }
      ]
    },
    {
      "cell_type": "code",
      "source": [
        "#concatenate\n",
        "a=([[10,20],[30,40]])\n",
        "b=([[50,60],[70,80]])\n",
        "np.concatenate((a,b))"
      ],
      "metadata": {
        "colab": {
          "base_uri": "https://localhost:8080/"
        },
        "id": "P-G-dcKKmAr5",
        "outputId": "d123ae73-a1b2-4e0a-92ce-f175abfee773"
      },
      "execution_count": null,
      "outputs": [
        {
          "output_type": "execute_result",
          "data": {
            "text/plain": [
              "array([[10, 20],\n",
              "       [30, 40],\n",
              "       [50, 60],\n",
              "       [70, 80]])"
            ]
          },
          "metadata": {},
          "execution_count": 30
        }
      ]
    },
    {
      "cell_type": "code",
      "source": [
        "np.concatenate((a,b),axis=1)#row wise concatenation wil be done"
      ],
      "metadata": {
        "colab": {
          "base_uri": "https://localhost:8080/"
        },
        "id": "HuSloMRdmpx7",
        "outputId": "101f411f-24b7-4b39-8701-e01c41c5e961"
      },
      "execution_count": null,
      "outputs": [
        {
          "output_type": "execute_result",
          "data": {
            "text/plain": [
              "array([[10, 20, 50, 60],\n",
              "       [30, 40, 70, 80]])"
            ]
          },
          "metadata": {},
          "execution_count": 31
        }
      ]
    },
    {
      "cell_type": "code",
      "source": [
        "a,b"
      ],
      "metadata": {
        "colab": {
          "base_uri": "https://localhost:8080/"
        },
        "id": "ZdUdOJ5em-N3",
        "outputId": "4161dc8b-8ced-4561-efe0-10e9e8512283"
      },
      "execution_count": null,
      "outputs": [
        {
          "output_type": "execute_result",
          "data": {
            "text/plain": [
              "([[10, 20], [30, 40]], [[50, 60], [70, 80]])"
            ]
          },
          "metadata": {},
          "execution_count": 32
        }
      ]
    },
    {
      "cell_type": "code",
      "source": [
        "#stack\n",
        "res=np.stack((a,b))#in concatenation and stack the index values are not same\n",
        "res"
      ],
      "metadata": {
        "colab": {
          "base_uri": "https://localhost:8080/"
        },
        "id": "vP0eP4Y4nFSA",
        "outputId": "7209887f-e48b-4811-9525-5038dd75eefa"
      },
      "execution_count": null,
      "outputs": [
        {
          "output_type": "execute_result",
          "data": {
            "text/plain": [
              "array([[[10, 20],\n",
              "        [30, 40]],\n",
              "\n",
              "       [[50, 60],\n",
              "        [70, 80]]])"
            ]
          },
          "metadata": {},
          "execution_count": 39
        }
      ]
    },
    {
      "cell_type": "code",
      "source": [
        "res[0]"
      ],
      "metadata": {
        "colab": {
          "base_uri": "https://localhost:8080/"
        },
        "id": "BAl-p0vtomsi",
        "outputId": "68d4a1e0-e425-44e2-9a87-1b0e567fd625"
      },
      "execution_count": null,
      "outputs": [
        {
          "output_type": "execute_result",
          "data": {
            "text/plain": [
              "array([[10, 20],\n",
              "       [30, 40]])"
            ]
          },
          "metadata": {},
          "execution_count": 40
        }
      ]
    },
    {
      "cell_type": "code",
      "source": [
        "res[1]"
      ],
      "metadata": {
        "colab": {
          "base_uri": "https://localhost:8080/"
        },
        "id": "GrfKLdbyor4y",
        "outputId": "6d91a03e-5443-4da4-b6c4-5da7f31ffa3f"
      },
      "execution_count": null,
      "outputs": [
        {
          "output_type": "execute_result",
          "data": {
            "text/plain": [
              "array([[50, 60],\n",
              "       [70, 80]])"
            ]
          },
          "metadata": {},
          "execution_count": 41
        }
      ]
    },
    {
      "cell_type": "code",
      "source": [
        "np.stack((a,b),axis=1)#row wise"
      ],
      "metadata": {
        "colab": {
          "base_uri": "https://localhost:8080/"
        },
        "id": "hBjgVjP7owZV",
        "outputId": "8895e367-6e95-49f9-95b8-7d136f118454"
      },
      "execution_count": null,
      "outputs": [
        {
          "output_type": "execute_result",
          "data": {
            "text/plain": [
              "array([[[10, 20],\n",
              "        [50, 60]],\n",
              "\n",
              "       [[30, 40],\n",
              "        [70, 80]]])"
            ]
          },
          "metadata": {},
          "execution_count": 42
        }
      ]
    },
    {
      "cell_type": "code",
      "source": [
        "#vstack-vertical stack\n",
        "np.vstack((a,b))"
      ],
      "metadata": {
        "colab": {
          "base_uri": "https://localhost:8080/"
        },
        "id": "vHGcB5nwpAT0",
        "outputId": "f2d7bfae-b3a6-4a10-87f2-da797e37738d"
      },
      "execution_count": null,
      "outputs": [
        {
          "output_type": "execute_result",
          "data": {
            "text/plain": [
              "array([[10, 20],\n",
              "       [30, 40],\n",
              "       [50, 60],\n",
              "       [70, 80]])"
            ]
          },
          "metadata": {},
          "execution_count": 43
        }
      ]
    },
    {
      "cell_type": "code",
      "source": [
        "#h stack-horizontal stack\n",
        "np.hstack((a,b))"
      ],
      "metadata": {
        "colab": {
          "base_uri": "https://localhost:8080/"
        },
        "id": "IDt6OHP7pTtJ",
        "outputId": "9685ef8d-6f95-4733-9a88-ec403d2120c1"
      },
      "execution_count": null,
      "outputs": [
        {
          "output_type": "execute_result",
          "data": {
            "text/plain": [
              "array([[10, 20, 50, 60],\n",
              "       [30, 40, 70, 80]])"
            ]
          },
          "metadata": {},
          "execution_count": 44
        }
      ]
    },
    {
      "cell_type": "code",
      "source": [
        "#d stack\n",
        "np.dstack((a,b))"
      ],
      "metadata": {
        "colab": {
          "base_uri": "https://localhost:8080/"
        },
        "id": "-qi5-Nn4pl0b",
        "outputId": "fafbe015-5981-416f-a915-66147a9199d7"
      },
      "execution_count": null,
      "outputs": [
        {
          "output_type": "execute_result",
          "data": {
            "text/plain": [
              "array([[[10, 50],\n",
              "        [20, 60]],\n",
              "\n",
              "       [[30, 70],\n",
              "        [40, 80]]])"
            ]
          },
          "metadata": {},
          "execution_count": 45
        }
      ]
    },
    {
      "cell_type": "code",
      "source": [
        "#split\n",
        "x=np.arange(10,110,10)\n",
        "x"
      ],
      "metadata": {
        "colab": {
          "base_uri": "https://localhost:8080/"
        },
        "id": "uQCglmzppvpi",
        "outputId": "f66052f0-3348-4268-fdec-f6d0e38abe52"
      },
      "execution_count": null,
      "outputs": [
        {
          "output_type": "execute_result",
          "data": {
            "text/plain": [
              "array([ 10,  20,  30,  40,  50,  60,  70,  80,  90, 100])"
            ]
          },
          "metadata": {},
          "execution_count": 47
        }
      ]
    },
    {
      "cell_type": "code",
      "source": [
        "np.split(x,2)"
      ],
      "metadata": {
        "colab": {
          "base_uri": "https://localhost:8080/"
        },
        "id": "L5MNqtRGqFP0",
        "outputId": "4a91caf2-3295-4548-f658-45e3e3c91ef9"
      },
      "execution_count": null,
      "outputs": [
        {
          "output_type": "execute_result",
          "data": {
            "text/plain": [
              "[array([10, 20, 30, 40, 50]), array([ 60,  70,  80,  90, 100])]"
            ]
          },
          "metadata": {},
          "execution_count": 48
        }
      ]
    },
    {
      "cell_type": "code",
      "source": [
        "np.split(x,3)"
      ],
      "metadata": {
        "id": "cC0grF6hqM6p"
      },
      "execution_count": null,
      "outputs": []
    },
    {
      "cell_type": "code",
      "source": [
        "z=np.split(x,5)\n",
        "z"
      ],
      "metadata": {
        "colab": {
          "base_uri": "https://localhost:8080/"
        },
        "id": "lxrYxj8GqT15",
        "outputId": "de5609b1-c9ba-4a1d-9a30-89f96530cbb8"
      },
      "execution_count": null,
      "outputs": [
        {
          "output_type": "execute_result",
          "data": {
            "text/plain": [
              "[array([10, 20]),\n",
              " array([30, 40]),\n",
              " array([50, 60]),\n",
              " array([70, 80]),\n",
              " array([ 90, 100])]"
            ]
          },
          "metadata": {},
          "execution_count": 50
        }
      ]
    },
    {
      "cell_type": "code",
      "source": [
        "S1,S2,S3,S4,S5=np.split(x,5)"
      ],
      "metadata": {
        "id": "XeTle5dCqgqs"
      },
      "execution_count": null,
      "outputs": []
    },
    {
      "cell_type": "code",
      "source": [
        "S1"
      ],
      "metadata": {
        "colab": {
          "base_uri": "https://localhost:8080/"
        },
        "id": "VJGfR-KnqtRM",
        "outputId": "ceac9b45-88f1-48e8-fb7e-685481187c87"
      },
      "execution_count": null,
      "outputs": [
        {
          "output_type": "execute_result",
          "data": {
            "text/plain": [
              "array([10, 20])"
            ]
          },
          "metadata": {},
          "execution_count": 52
        }
      ]
    },
    {
      "cell_type": "code",
      "source": [
        "S3"
      ],
      "metadata": {
        "colab": {
          "base_uri": "https://localhost:8080/"
        },
        "id": "EOnjII-Sqwsv",
        "outputId": "fde1ffea-054a-4053-ac6a-2599fcf58743"
      },
      "execution_count": null,
      "outputs": [
        {
          "output_type": "execute_result",
          "data": {
            "text/plain": [
              "array([50, 60])"
            ]
          },
          "metadata": {},
          "execution_count": 54
        }
      ]
    },
    {
      "cell_type": "code",
      "source": [
        "S5"
      ],
      "metadata": {
        "colab": {
          "base_uri": "https://localhost:8080/"
        },
        "id": "jVAR2P0eqzno",
        "outputId": "489a58c0-8b43-4c50-f917-241a6d46e2b8"
      },
      "execution_count": null,
      "outputs": [
        {
          "output_type": "execute_result",
          "data": {
            "text/plain": [
              "array([ 90, 100])"
            ]
          },
          "metadata": {},
          "execution_count": 55
        }
      ]
    },
    {
      "cell_type": "code",
      "source": [
        "x=np.arange(10,130,10)\n",
        "x"
      ],
      "metadata": {
        "colab": {
          "base_uri": "https://localhost:8080/"
        },
        "id": "tqso3DlJq6oF",
        "outputId": "59e55ede-49a1-4ca4-805d-6d1f224af065"
      },
      "execution_count": null,
      "outputs": [
        {
          "output_type": "execute_result",
          "data": {
            "text/plain": [
              "array([ 10,  20,  30,  40,  50,  60,  70,  80,  90, 100, 110, 120])"
            ]
          },
          "metadata": {},
          "execution_count": 57
        }
      ]
    },
    {
      "cell_type": "code",
      "source": [
        "np.split(x,(4,3))"
      ],
      "metadata": {
        "colab": {
          "base_uri": "https://localhost:8080/"
        },
        "id": "dyB0nzk5rF9h",
        "outputId": "fe7a3996-d38f-47ba-b293-c41fb1a5f0e9"
      },
      "execution_count": null,
      "outputs": [
        {
          "output_type": "execute_result",
          "data": {
            "text/plain": [
              "[array([10, 20, 30, 40]),\n",
              " array([], dtype=int64),\n",
              " array([ 40,  50,  60,  70,  80,  90, 100, 110, 120])]"
            ]
          },
          "metadata": {},
          "execution_count": 58
        }
      ]
    },
    {
      "cell_type": "code",
      "source": [
        "np.split(x,(2,6))"
      ],
      "metadata": {
        "colab": {
          "base_uri": "https://localhost:8080/"
        },
        "outputId": "e24830c3-a331-4b34-8dbf-2576eb69d11e",
        "id": "CsqHcIQ5rala"
      },
      "execution_count": null,
      "outputs": [
        {
          "output_type": "execute_result",
          "data": {
            "text/plain": [
              "[array([10, 20]),\n",
              " array([30, 40, 50, 60]),\n",
              " array([ 70,  80,  90, 100, 110, 120])]"
            ]
          },
          "metadata": {},
          "execution_count": 59
        }
      ]
    },
    {
      "cell_type": "code",
      "source": [
        "#where\n",
        "a=np.arange(10,130,10).reshape(4,3)\n",
        "a"
      ],
      "metadata": {
        "colab": {
          "base_uri": "https://localhost:8080/"
        },
        "id": "Urx0wpk-rVcP",
        "outputId": "f517dd7c-4b44-4857-ae6e-8fc62960233c"
      },
      "execution_count": null,
      "outputs": [
        {
          "output_type": "execute_result",
          "data": {
            "text/plain": [
              "array([[ 10,  20,  30],\n",
              "       [ 40,  50,  60],\n",
              "       [ 70,  80,  90],\n",
              "       [100, 110, 120]])"
            ]
          },
          "metadata": {},
          "execution_count": 63
        }
      ]
    },
    {
      "cell_type": "code",
      "source": [
        "np.where(a==80)"
      ],
      "metadata": {
        "colab": {
          "base_uri": "https://localhost:8080/"
        },
        "id": "GkD1y0Akr35X",
        "outputId": "98b5e77b-40ef-4e9e-cb97-851d11e9126a"
      },
      "execution_count": null,
      "outputs": [
        {
          "output_type": "execute_result",
          "data": {
            "text/plain": [
              "(array([2]), array([1]))"
            ]
          },
          "metadata": {},
          "execution_count": 61
        }
      ]
    },
    {
      "cell_type": "code",
      "source": [
        "b=np.arange(10,100,20)\n",
        "b"
      ],
      "metadata": {
        "colab": {
          "base_uri": "https://localhost:8080/"
        },
        "id": "lWpkYHJ1sV4D",
        "outputId": "fc4ad18e-bbfa-4b62-c655-f7f04fd10691"
      },
      "execution_count": null,
      "outputs": [
        {
          "output_type": "execute_result",
          "data": {
            "text/plain": [
              "array([10, 30, 50, 70, 90])"
            ]
          },
          "metadata": {},
          "execution_count": 64
        }
      ]
    },
    {
      "cell_type": "code",
      "source": [
        "np.where(b==50)"
      ],
      "metadata": {
        "colab": {
          "base_uri": "https://localhost:8080/"
        },
        "id": "J_JnCVZxsmIt",
        "outputId": "6030d9d8-a52d-4ee1-dda0-3a43b303a983"
      },
      "execution_count": null,
      "outputs": [
        {
          "output_type": "execute_result",
          "data": {
            "text/plain": [
              "(array([2]),)"
            ]
          },
          "metadata": {},
          "execution_count": 65
        }
      ]
    },
    {
      "cell_type": "code",
      "source": [
        "a\n",
        "np.where(a%20==0)"
      ],
      "metadata": {
        "colab": {
          "base_uri": "https://localhost:8080/"
        },
        "id": "1qQg4k5Hs5Ij",
        "outputId": "d0f5e5e4-122a-4a97-937c-5250c2d45763"
      },
      "execution_count": null,
      "outputs": [
        {
          "output_type": "execute_result",
          "data": {
            "text/plain": [
              "(array([0, 1, 1, 2, 3, 3]), array([1, 0, 2, 1, 0, 2]))"
            ]
          },
          "metadata": {},
          "execution_count": 67
        }
      ]
    },
    {
      "cell_type": "code",
      "source": [
        "#seachsorted\n",
        "a=np.array([10,20,30,40,50,60])\n",
        "np.searchsorted(a,40)"
      ],
      "metadata": {
        "colab": {
          "base_uri": "https://localhost:8080/"
        },
        "id": "EplQI7hBtH7Z",
        "outputId": "0ae71e2a-b30d-407c-f521-aeb2461d2f3c"
      },
      "execution_count": null,
      "outputs": [
        {
          "output_type": "execute_result",
          "data": {
            "text/plain": [
              "3"
            ]
          },
          "metadata": {},
          "execution_count": 69
        }
      ]
    },
    {
      "cell_type": "code",
      "source": [
        "np.searchsorted(a,[40,50])"
      ],
      "metadata": {
        "colab": {
          "base_uri": "https://localhost:8080/"
        },
        "id": "Wkc-098UtihF",
        "outputId": "331d906c-07c4-41c5-ffb1-31853961bf6e"
      },
      "execution_count": null,
      "outputs": [
        {
          "output_type": "execute_result",
          "data": {
            "text/plain": [
              "array([3, 4])"
            ]
          },
          "metadata": {},
          "execution_count": 70
        }
      ]
    },
    {
      "cell_type": "markdown",
      "source": [
        "            ARITHMETIC OPERATIONS\n",
        "\n",
        "      1.add()\n",
        "      2.subtract()\n",
        "      3.multiply()\n",
        "      4.divide()\n",
        "      5.exp()\n",
        "      6.sqrt()\n",
        "    >comparison"
      ],
      "metadata": {
        "id": "5b4e0QH1tyCa"
      }
    },
    {
      "cell_type": "code",
      "source": [
        "a=np.array([[10,20,30],[40,50,60]])\n",
        "b=np.array([[1,2,3],[4,5,6]])\n",
        "a\n",
        "b"
      ],
      "metadata": {
        "colab": {
          "base_uri": "https://localhost:8080/"
        },
        "id": "alCpr78SuRqS",
        "outputId": "3f10a915-75bb-4cad-a8b6-66886ce92402"
      },
      "execution_count": null,
      "outputs": [
        {
          "output_type": "execute_result",
          "data": {
            "text/plain": [
              "array([[1, 2, 3],\n",
              "       [4, 5, 6]])"
            ]
          },
          "metadata": {},
          "execution_count": 75
        }
      ]
    },
    {
      "cell_type": "code",
      "source": [
        "np.add(a,b)"
      ],
      "metadata": {
        "colab": {
          "base_uri": "https://localhost:8080/"
        },
        "id": "5OgY-RVmvIWU",
        "outputId": "25343883-98fd-4725-b9a3-c8a8afe3a349"
      },
      "execution_count": null,
      "outputs": [
        {
          "output_type": "execute_result",
          "data": {
            "text/plain": [
              "array([[11, 22, 33],\n",
              "       [44, 55, 66]])"
            ]
          },
          "metadata": {},
          "execution_count": 76
        }
      ]
    },
    {
      "cell_type": "code",
      "source": [
        "c=([[10,20],[3,4]])\n",
        "np.add(a,c)"
      ],
      "metadata": {
        "id": "Xntc6kf4vPtS"
      },
      "execution_count": null,
      "outputs": []
    },
    {
      "cell_type": "code",
      "source": [
        "np.subtract(a,b)"
      ],
      "metadata": {
        "colab": {
          "base_uri": "https://localhost:8080/"
        },
        "id": "6eh73U0ivh8K",
        "outputId": "f371abdc-47f0-4c80-c26d-c279b3eea4ec"
      },
      "execution_count": null,
      "outputs": [
        {
          "output_type": "execute_result",
          "data": {
            "text/plain": [
              "array([[ 9, 18, 27],\n",
              "       [36, 45, 54]])"
            ]
          },
          "metadata": {},
          "execution_count": 78
        }
      ]
    },
    {
      "cell_type": "code",
      "source": [
        "np.divide(a,b)"
      ],
      "metadata": {
        "colab": {
          "base_uri": "https://localhost:8080/"
        },
        "id": "8Wi6uBgtvnAv",
        "outputId": "c436bb73-4fe0-417c-af9d-12487a15ff08"
      },
      "execution_count": null,
      "outputs": [
        {
          "output_type": "execute_result",
          "data": {
            "text/plain": [
              "array([[10., 10., 10.],\n",
              "       [10., 10., 10.]])"
            ]
          },
          "metadata": {},
          "execution_count": 79
        }
      ]
    },
    {
      "cell_type": "code",
      "source": [
        "np.multiply(a,b)"
      ],
      "metadata": {
        "colab": {
          "base_uri": "https://localhost:8080/"
        },
        "id": "jqOUx8WNvquW",
        "outputId": "fea065a6-1f69-4a3b-8234-99eb14cc19b7"
      },
      "execution_count": null,
      "outputs": [
        {
          "output_type": "execute_result",
          "data": {
            "text/plain": [
              "array([[ 10,  40,  90],\n",
              "       [160, 250, 360]])"
            ]
          },
          "metadata": {},
          "execution_count": 80
        }
      ]
    },
    {
      "cell_type": "code",
      "source": [
        "np.exp(a)"
      ],
      "metadata": {
        "colab": {
          "base_uri": "https://localhost:8080/"
        },
        "id": "p35frHWfvwT0",
        "outputId": "c73d83df-1303-4004-d3f4-a54490e934fb"
      },
      "execution_count": null,
      "outputs": [
        {
          "output_type": "execute_result",
          "data": {
            "text/plain": [
              "array([[2.20264658e+04, 4.85165195e+08, 1.06864746e+13],\n",
              "       [2.35385267e+17, 5.18470553e+21, 1.14200739e+26]])"
            ]
          },
          "metadata": {},
          "execution_count": 82
        }
      ]
    },
    {
      "cell_type": "code",
      "source": [
        "np.sqrt(a)"
      ],
      "metadata": {
        "colab": {
          "base_uri": "https://localhost:8080/"
        },
        "id": "dyxhuYwnv7i6",
        "outputId": "f4095c4b-bd55-4df3-c862-063820cb9712"
      },
      "execution_count": null,
      "outputs": [
        {
          "output_type": "execute_result",
          "data": {
            "text/plain": [
              "array([[3.16227766, 4.47213595, 5.47722558],\n",
              "       [6.32455532, 7.07106781, 7.74596669]])"
            ]
          },
          "metadata": {},
          "execution_count": 83
        }
      ]
    },
    {
      "cell_type": "code",
      "source": [
        "#comparison\n",
        "a=([[10,20,30],[40,50,60]])\n",
        "b=([[1,2,3],[4,5,6]])\n",
        "b"
      ],
      "metadata": {
        "colab": {
          "base_uri": "https://localhost:8080/"
        },
        "id": "DJ3Q7M9lwGWw",
        "outputId": "9c163b29-375b-4b0a-adf4-1ffee24c9438"
      },
      "execution_count": null,
      "outputs": [
        {
          "output_type": "execute_result",
          "data": {
            "text/plain": [
              "[[1, 2, 3], [4, 5, 6]]"
            ]
          },
          "metadata": {},
          "execution_count": 85
        }
      ]
    },
    {
      "cell_type": "code",
      "source": [
        "b[1][0]=40\n",
        "b[1][1]=50\n",
        "b[1][2]=60\n",
        "b"
      ],
      "metadata": {
        "colab": {
          "base_uri": "https://localhost:8080/"
        },
        "id": "QSvPKPCCwn5F",
        "outputId": "3d48d203-4541-414a-9d13-7e56178adaab"
      },
      "execution_count": null,
      "outputs": [
        {
          "output_type": "execute_result",
          "data": {
            "text/plain": [
              "[[1, 2, 3], [40, 50, 60]]"
            ]
          },
          "metadata": {},
          "execution_count": 87
        }
      ]
    },
    {
      "cell_type": "code",
      "source": [
        "np.array_equal(a,b)"
      ],
      "metadata": {
        "colab": {
          "base_uri": "https://localhost:8080/"
        },
        "id": "xLuTVfKEw-Ob",
        "outputId": "28904af4-7c1d-46a9-9c8c-5bea228f369d"
      },
      "execution_count": null,
      "outputs": [
        {
          "output_type": "execute_result",
          "data": {
            "text/plain": [
              "False"
            ]
          },
          "metadata": {},
          "execution_count": 88
        }
      ]
    },
    {
      "cell_type": "code",
      "source": [
        "a==b"
      ],
      "metadata": {
        "colab": {
          "base_uri": "https://localhost:8080/"
        },
        "id": "UJINpFhtxHcH",
        "outputId": "c17e6db0-9a3e-4860-c12f-285ca7a13815"
      },
      "execution_count": null,
      "outputs": [
        {
          "output_type": "execute_result",
          "data": {
            "text/plain": [
              "False"
            ]
          },
          "metadata": {},
          "execution_count": 90
        }
      ]
    },
    {
      "cell_type": "markdown",
      "source": [
        "ARRAY FUNCTIONS\n",
        "\n",
        "1.sum()\n",
        "2.min()\n",
        "3.max()\n",
        "4.mean()\n",
        "5.median()\n",
        "6.var()\n",
        "7.std()"
      ],
      "metadata": {
        "id": "qC5VlxrDxPNx"
      }
    },
    {
      "cell_type": "code",
      "source": [
        "a=([[10,20],[30,40],[50,60]])\n",
        "a"
      ],
      "metadata": {
        "colab": {
          "base_uri": "https://localhost:8080/"
        },
        "id": "a8V2uf47xqBp",
        "outputId": "deb0e0b1-4fcc-4055-8301-5998791bfc85"
      },
      "execution_count": null,
      "outputs": [
        {
          "output_type": "execute_result",
          "data": {
            "text/plain": [
              "[[10, 20], [30, 40], [50, 60]]"
            ]
          },
          "metadata": {},
          "execution_count": 92
        }
      ]
    },
    {
      "cell_type": "code",
      "source": [
        "np.min(a)"
      ],
      "metadata": {
        "colab": {
          "base_uri": "https://localhost:8080/"
        },
        "id": "_mFmG_zix-Qr",
        "outputId": "9a894411-6f58-4dca-fcc4-5bbe56e7e362"
      },
      "execution_count": null,
      "outputs": [
        {
          "output_type": "execute_result",
          "data": {
            "text/plain": [
              "10"
            ]
          },
          "metadata": {},
          "execution_count": 93
        }
      ]
    },
    {
      "cell_type": "code",
      "source": [
        "np.min(a,axis=1)#row"
      ],
      "metadata": {
        "colab": {
          "base_uri": "https://localhost:8080/"
        },
        "id": "oCL5M9U_yMSN",
        "outputId": "5e89f63e-a40f-4ec4-e3d0-dd6387ae7890"
      },
      "execution_count": null,
      "outputs": [
        {
          "output_type": "execute_result",
          "data": {
            "text/plain": [
              "array([10, 30, 50])"
            ]
          },
          "metadata": {},
          "execution_count": 94
        }
      ]
    },
    {
      "cell_type": "code",
      "source": [
        "np.min(a,axis=0)#column"
      ],
      "metadata": {
        "colab": {
          "base_uri": "https://localhost:8080/"
        },
        "id": "Oz6GLz9wyRrG",
        "outputId": "be9f8206-a8ce-4d4e-b0dc-bdf9f5c2e5c4"
      },
      "execution_count": null,
      "outputs": [
        {
          "output_type": "execute_result",
          "data": {
            "text/plain": [
              "array([10, 20])"
            ]
          },
          "metadata": {},
          "execution_count": 95
        }
      ]
    },
    {
      "cell_type": "code",
      "source": [
        "np.max(a)"
      ],
      "metadata": {
        "colab": {
          "base_uri": "https://localhost:8080/"
        },
        "id": "ir6FPeudyfWr",
        "outputId": "071940a8-4758-4933-b3be-d7e7458e6c87"
      },
      "execution_count": null,
      "outputs": [
        {
          "output_type": "execute_result",
          "data": {
            "text/plain": [
              "60"
            ]
          },
          "metadata": {},
          "execution_count": 96
        }
      ]
    },
    {
      "cell_type": "code",
      "source": [
        "np.max(a,axis=0)"
      ],
      "metadata": {
        "colab": {
          "base_uri": "https://localhost:8080/"
        },
        "id": "IthSx43dykIP",
        "outputId": "5ac91c96-970b-47b0-b445-e69bb119442d"
      },
      "execution_count": null,
      "outputs": [
        {
          "output_type": "execute_result",
          "data": {
            "text/plain": [
              "array([50, 60])"
            ]
          },
          "metadata": {},
          "execution_count": 97
        }
      ]
    },
    {
      "cell_type": "code",
      "source": [
        "np.max(a,axis=1)"
      ],
      "metadata": {
        "colab": {
          "base_uri": "https://localhost:8080/"
        },
        "id": "JjKVCfPMyrBf",
        "outputId": "6050e1c1-1635-497c-f0f5-f66d7470ec1b"
      },
      "execution_count": null,
      "outputs": [
        {
          "output_type": "execute_result",
          "data": {
            "text/plain": [
              "array([20, 40, 60])"
            ]
          },
          "metadata": {},
          "execution_count": 98
        }
      ]
    },
    {
      "cell_type": "code",
      "source": [
        "np.sum(a)"
      ],
      "metadata": {
        "colab": {
          "base_uri": "https://localhost:8080/"
        },
        "id": "nyV5eJy8yytO",
        "outputId": "6ae57a4d-0ff1-4090-b963-e8204fe42dff"
      },
      "execution_count": null,
      "outputs": [
        {
          "output_type": "execute_result",
          "data": {
            "text/plain": [
              "210"
            ]
          },
          "metadata": {},
          "execution_count": 99
        }
      ]
    },
    {
      "cell_type": "code",
      "source": [
        "np.sum(a,axis=0)"
      ],
      "metadata": {
        "colab": {
          "base_uri": "https://localhost:8080/"
        },
        "id": "MyoqsZWXy403",
        "outputId": "e988414f-4ad5-4cb9-9b13-d502cacf8418"
      },
      "execution_count": null,
      "outputs": [
        {
          "output_type": "execute_result",
          "data": {
            "text/plain": [
              "array([ 90, 120])"
            ]
          },
          "metadata": {},
          "execution_count": 100
        }
      ]
    },
    {
      "cell_type": "code",
      "source": [
        "np.sum(a,axis=1)"
      ],
      "metadata": {
        "colab": {
          "base_uri": "https://localhost:8080/"
        },
        "id": "1TAYKEqHy_AP",
        "outputId": "605afc28-af51-4eb7-bd31-0881566a7011"
      },
      "execution_count": null,
      "outputs": [
        {
          "output_type": "execute_result",
          "data": {
            "text/plain": [
              "array([ 30,  70, 110])"
            ]
          },
          "metadata": {},
          "execution_count": 101
        }
      ]
    },
    {
      "cell_type": "code",
      "source": [
        "np.mean(a)"
      ],
      "metadata": {
        "colab": {
          "base_uri": "https://localhost:8080/"
        },
        "id": "T9sj6q6rzGlQ",
        "outputId": "b10a9926-5e3e-4bce-81c7-e1b6f5984f49"
      },
      "execution_count": null,
      "outputs": [
        {
          "output_type": "execute_result",
          "data": {
            "text/plain": [
              "35.0"
            ]
          },
          "metadata": {},
          "execution_count": 102
        }
      ]
    },
    {
      "cell_type": "code",
      "source": [
        "np.mean(a,axis=0)"
      ],
      "metadata": {
        "colab": {
          "base_uri": "https://localhost:8080/"
        },
        "id": "6sostGGfzLec",
        "outputId": "efc23c42-abc3-40c6-f42d-0566498f7df2"
      },
      "execution_count": null,
      "outputs": [
        {
          "output_type": "execute_result",
          "data": {
            "text/plain": [
              "array([30., 40.])"
            ]
          },
          "metadata": {},
          "execution_count": 103
        }
      ]
    },
    {
      "cell_type": "code",
      "source": [
        "np.mean(a,axis=1)"
      ],
      "metadata": {
        "colab": {
          "base_uri": "https://localhost:8080/"
        },
        "id": "9_HTR824zRLw",
        "outputId": "47e0b275-784e-4f2f-8f2b-a7b170b21ee7"
      },
      "execution_count": null,
      "outputs": [
        {
          "output_type": "execute_result",
          "data": {
            "text/plain": [
              "array([15., 35., 55.])"
            ]
          },
          "metadata": {},
          "execution_count": 104
        }
      ]
    },
    {
      "cell_type": "code",
      "source": [
        "np.median(1)"
      ],
      "metadata": {
        "colab": {
          "base_uri": "https://localhost:8080/"
        },
        "id": "BeihRie6zXJS",
        "outputId": "d3f9ce83-30ff-4e7e-9527-365f0fb0da6a"
      },
      "execution_count": null,
      "outputs": [
        {
          "output_type": "execute_result",
          "data": {
            "text/plain": [
              "1.0"
            ]
          },
          "metadata": {},
          "execution_count": 105
        }
      ]
    },
    {
      "cell_type": "code",
      "source": [
        "np.median(a,axis=0)"
      ],
      "metadata": {
        "colab": {
          "base_uri": "https://localhost:8080/"
        },
        "id": "bUuCCvsizdV0",
        "outputId": "f82cf5f6-7419-4a7a-8c84-940cf9b47121"
      },
      "execution_count": null,
      "outputs": [
        {
          "output_type": "execute_result",
          "data": {
            "text/plain": [
              "array([30., 40.])"
            ]
          },
          "metadata": {},
          "execution_count": 106
        }
      ]
    },
    {
      "cell_type": "code",
      "source": [
        "np.median(a,axis=1)"
      ],
      "metadata": {
        "colab": {
          "base_uri": "https://localhost:8080/"
        },
        "id": "lZJZ9QRezk3f",
        "outputId": "2fa804e8-1e94-40d3-8fa8-b4b2758bb5e2"
      },
      "execution_count": null,
      "outputs": [
        {
          "output_type": "execute_result",
          "data": {
            "text/plain": [
              "array([15., 35., 55.])"
            ]
          },
          "metadata": {},
          "execution_count": 107
        }
      ]
    },
    {
      "cell_type": "code",
      "source": [
        "np.var(a)"
      ],
      "metadata": {
        "colab": {
          "base_uri": "https://localhost:8080/"
        },
        "id": "CfDawEt2zi9g",
        "outputId": "63fa79a1-902f-49d5-ad45-0c0474871b03"
      },
      "execution_count": null,
      "outputs": [
        {
          "output_type": "execute_result",
          "data": {
            "text/plain": [
              "291.6666666666667"
            ]
          },
          "metadata": {},
          "execution_count": 108
        }
      ]
    },
    {
      "cell_type": "code",
      "source": [
        "np.var(a,axis=0)"
      ],
      "metadata": {
        "colab": {
          "base_uri": "https://localhost:8080/"
        },
        "id": "UvYIccjmzxmU",
        "outputId": "44c1aacb-65b9-4774-d607-112231ff226f"
      },
      "execution_count": null,
      "outputs": [
        {
          "output_type": "execute_result",
          "data": {
            "text/plain": [
              "array([266.66666667, 266.66666667])"
            ]
          },
          "metadata": {},
          "execution_count": 109
        }
      ]
    },
    {
      "cell_type": "code",
      "source": [
        "np.var(a,axis=1)"
      ],
      "metadata": {
        "colab": {
          "base_uri": "https://localhost:8080/"
        },
        "id": "5V3808Haz3yq",
        "outputId": "00249f79-2df9-4290-df37-a28f85a0c2cd"
      },
      "execution_count": null,
      "outputs": [
        {
          "output_type": "execute_result",
          "data": {
            "text/plain": [
              "array([25., 25., 25.])"
            ]
          },
          "metadata": {},
          "execution_count": 110
        }
      ]
    },
    {
      "cell_type": "code",
      "source": [
        "np.std(a)"
      ],
      "metadata": {
        "colab": {
          "base_uri": "https://localhost:8080/"
        },
        "id": "if_qTgt0z9hj",
        "outputId": "4cdb317b-0c08-409a-dd97-c13f25df0453"
      },
      "execution_count": null,
      "outputs": [
        {
          "output_type": "execute_result",
          "data": {
            "text/plain": [
              "17.07825127659933"
            ]
          },
          "metadata": {},
          "execution_count": 111
        }
      ]
    },
    {
      "cell_type": "code",
      "source": [
        "np.std(a,axis=0)"
      ],
      "metadata": {
        "colab": {
          "base_uri": "https://localhost:8080/"
        },
        "id": "iOb4fY9R0C2L",
        "outputId": "c23f0bee-113b-40d5-cbe5-28dd98dc990a"
      },
      "execution_count": null,
      "outputs": [
        {
          "output_type": "execute_result",
          "data": {
            "text/plain": [
              "array([16.32993162, 16.32993162])"
            ]
          },
          "metadata": {},
          "execution_count": 112
        }
      ]
    },
    {
      "cell_type": "code",
      "source": [
        "np.std(a,axis=1)"
      ],
      "metadata": {
        "colab": {
          "base_uri": "https://localhost:8080/"
        },
        "id": "HHKw4uCO0IWW",
        "outputId": "af6c0f11-5bea-46c5-fd4e-9ca19be6d5b7"
      },
      "execution_count": null,
      "outputs": [
        {
          "output_type": "execute_result",
          "data": {
            "text/plain": [
              "array([5., 5., 5.])"
            ]
          },
          "metadata": {},
          "execution_count": 113
        }
      ]
    }
  ],
  "metadata": {
    "colab": {
      "provenance": [],
      "authorship_tag": "ABX9TyNIZWspqVxGtfjk99VTgsU5",
      "include_colab_link": true
    },
    "kernelspec": {
      "display_name": "Python 3",
      "name": "python3"
    },
    "language_info": {
      "name": "python"
    }
  },
  "nbformat": 4,
  "nbformat_minor": 0
}